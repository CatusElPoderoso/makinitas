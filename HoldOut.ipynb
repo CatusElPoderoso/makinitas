{
 "cells": [
  {
   "cell_type": "code",
   "execution_count": 30,
   "id": "b5f056dc-7aec-40ac-84d2-259429fce613",
   "metadata": {},
   "outputs": [
    {
     "name": "stdin",
     "output_type": "stream",
     "text": [
      "Introduzca el valor de r:  2\n"
     ]
    },
    {
     "name": "stdout",
     "output_type": "stream",
     "text": [
      "El valor de r es: 0.2\n"
     ]
    }
   ],
   "source": [
    "while True:\n",
    "    r = input(\"Introduzca el valor de r: \")\n",
    "    try:\n",
    "        num = float(r)\n",
    "        while num >= 1:\n",
    "            num /= 10\n",
    "        print(f\"El valor de r es: {num}\")\n",
    "        break\n",
    "    except ValueError:\n",
    "        print(\"Por favor, introduzca un número válido.\")"
   ]
  },
  {
   "cell_type": "code",
   "execution_count": 32,
   "id": "00d26bb0-2ff0-433d-b0d1-799453dfcd74",
   "metadata": {},
   "outputs": [
    {
     "name": "stdout",
     "output_type": "stream",
     "text": [
      "               name     role         type demographic  \\\n",
      "0              Area  Feature      Integer        None   \n",
      "1         Perimeter  Feature   Continuous        None   \n",
      "2   MajorAxisLength  Feature   Continuous        None   \n",
      "3   MinorAxisLength  Feature   Continuous        None   \n",
      "4       AspectRatio  Feature   Continuous        None   \n",
      "5      Eccentricity  Feature   Continuous        None   \n",
      "6        ConvexArea  Feature      Integer        None   \n",
      "7     EquivDiameter  Feature   Continuous        None   \n",
      "8            Extent  Feature   Continuous        None   \n",
      "9          Solidity  Feature   Continuous        None   \n",
      "10        Roundness  Feature   Continuous        None   \n",
      "11      Compactness  Feature   Continuous        None   \n",
      "12     ShapeFactor1  Feature   Continuous        None   \n",
      "13     ShapeFactor2  Feature   Continuous        None   \n",
      "14     ShapeFactor3  Feature   Continuous        None   \n",
      "15     ShapeFactor4  Feature   Continuous        None   \n",
      "16            Class   Target  Categorical        None   \n",
      "\n",
      "                                          description   units missing_values  \n",
      "0   The area of a bean zone and the number of pixe...  pixels             no  \n",
      "1   Bean circumference is defined as the length of...    None             no  \n",
      "2   The distance between the ends of the longest l...    None             no  \n",
      "3   The longest line that can be drawn from the be...    None             no  \n",
      "4   Defines the relationship between MajorAxisLeng...    None             no  \n",
      "5   Eccentricity of the ellipse having the same mo...    None             no  \n",
      "6   Number of pixels in the smallest convex polygo...    None             no  \n",
      "7   Equivalent diameter: The diameter of a circle ...    None             no  \n",
      "8   The ratio of the pixels in the bounding box to...    None             no  \n",
      "9   Also known as convexity. The ratio of the pixe...    None             no  \n",
      "10  Calculated with the following formula: (4piA)/...    None             no  \n",
      "11                Measures the roundness of an object    Ed/L             no  \n",
      "12                                               None    None             no  \n",
      "13                                               None    None             no  \n",
      "14                                               None    None             no  \n",
      "15                                               None    None             no  \n",
      "16  (Seker, Barbunya, Bombay, Cali, Dermosan, Horo...    None             no  \n"
     ]
    }
   ],
   "source": [
    "from ucimlrepo import fetch_ucirepo \n",
    "  \n",
    "# fetch dataset \n",
    "dry_bean = fetch_ucirepo(id=602) \n",
    "  \n",
    "# data (as pandas dataframes) \n",
    "X = dry_bean.data.features \n",
    "y = dry_bean.data.targets \n",
    "\n",
    "# variable information \n",
    "print(dry_bean.variables) "
   ]
  },
  {
   "cell_type": "code",
   "execution_count": 34,
   "id": "cbd326d3-e063-4be7-a477-489f82ad8d3d",
   "metadata": {},
   "outputs": [],
   "source": [
    "from sklearn.model_selection import train_test_split\n",
    "\n",
    "X_train, X_test, y_train, y_test = train_test_split(X, y, test_size = num, random_state=42)"
   ]
  },
  {
   "cell_type": "code",
   "execution_count": 46,
   "id": "d2c31c86-975c-4847-b46c-f1d792ffcfcd",
   "metadata": {},
   "outputs": [
    {
     "name": "stderr",
     "output_type": "stream",
     "text": [
      "C:\\Users\\reyes\\anaconda3\\Lib\\site-packages\\sklearn\\neighbors\\_classification.py:238: DataConversionWarning: A column-vector y was passed when a 1d array was expected. Please change the shape of y to (n_samples,), for example using ravel().\n",
      "  return self._fit(X, y)\n"
     ]
    }
   ],
   "source": [
    "from sklearn.neighbors import KNeighborsClassifier\n",
    "\n",
    "knn = KNeighborsClassifier(n_neighbors=5)\n",
    "knn.fit(X_train, y_train)\n",
    "y_pred = knn.predict(X_test)"
   ]
  },
  {
   "cell_type": "code",
   "execution_count": 40,
   "id": "e349e9d2-1831-48b4-9e80-cb7b864655de",
   "metadata": {},
   "outputs": [
    {
     "name": "stdout",
     "output_type": "stream",
     "text": [
      "\n",
      "Reporte de clasificación:\n",
      "              precision    recall  f1-score   support\n",
      "\n",
      "    BARBUNYA       0.45      0.45      0.45       261\n",
      "      BOMBAY       1.00      1.00      1.00       117\n",
      "        CALI       0.61      0.64      0.62       317\n",
      "    DERMASON       0.78      0.89      0.83       671\n",
      "       HOROZ       0.73      0.66      0.69       408\n",
      "       SEKER       0.83      0.62      0.71       413\n",
      "        SIRA       0.70      0.75      0.72       536\n",
      "\n",
      "    accuracy                           0.72      2723\n",
      "   macro avg       0.73      0.71      0.72      2723\n",
      "weighted avg       0.72      0.72      0.72      2723\n",
      "\n"
     ]
    }
   ],
   "source": [
    "from sklearn.metrics import classification_report\n",
    "\n",
    "class_report = classification_report(y_test, y_pred)\n",
    "print(\"\\nReporte de clasificación:\")\n",
    "print(class_report)"
   ]
  },
  {
   "cell_type": "code",
   "execution_count": null,
   "id": "c7647c21-5b6a-4602-a01c-532ee512e42c",
   "metadata": {},
   "outputs": [],
   "source": []
  }
 ],
 "metadata": {
  "kernelspec": {
   "display_name": "Python 3 (ipykernel)",
   "language": "python",
   "name": "python3"
  },
  "language_info": {
   "codemirror_mode": {
    "name": "ipython",
    "version": 3
   },
   "file_extension": ".py",
   "mimetype": "text/x-python",
   "name": "python",
   "nbconvert_exporter": "python",
   "pygments_lexer": "ipython3",
   "version": "3.12.4"
  }
 },
 "nbformat": 4,
 "nbformat_minor": 5
}
