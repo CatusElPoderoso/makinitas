{
 "cells": [
  {
   "cell_type": "code",
   "execution_count": 1,
   "id": "b92ca301-70c7-432f-8dfb-061c37c7cbe5",
   "metadata": {},
   "outputs": [],
   "source": [
    "# importar dataset\n",
    "from sklearn.datasets import load_breast_cancer\n",
    "\n",
    "X,y = load_breast_cancer(return_X_y=True)"
   ]
  },
  {
   "cell_type": "code",
   "execution_count": 2,
   "id": "2bd7b681-dd11-4b7e-9519-a577ab2d701d",
   "metadata": {},
   "outputs": [
    {
     "name": "stdout",
     "output_type": "stream",
     "text": [
      "[1 0 0 1 1 0 0 0 1 1 1 0 1 0 1 0 1 1 1 0 0 1 0 1 1 1 1 1 1 0 1 1 1 1 1 1 0\n",
      " 1 0 1 1 0 1 1 1 1 1 1 1 1 0 0 1 1 1 1 1 0 0 1 1 0 0 1 1 1 0 0 1 1 0 0 1 0\n",
      " 1 1 1 0 1 1 0 1 0 0 0 0 0 0 1 1 1 1 1 1 1 1 0 0 1 0 0 1 0 0 1 1 1 0 1 1 0\n",
      " 1 1 0 1 0 1 1 1 0 1 1 1 0 1 0 0 1 1 0 0 0 1 1 1 0 1 1 1 0 1 0 1 1 0 1 0 0\n",
      " 0 1 0 1 1 1 1 0 0 1 1 1 1 1 1 1 0 1 1 1 1 0 1]\n"
     ]
    }
   ],
   "source": [
    "# hold out para dividir dataset, 70% para entrenamiento y 30% para pruebas\n",
    "from sklearn.model_selection import train_test_split\n",
    "\n",
    "X_train, X_test, y_train, y_test = train_test_split(X, y, test_size = 0.3, random_state=42)\n",
    "# se imprimen etiquetas de conjunto de pruebas\n",
    "print(y_test)"
   ]
  },
  {
   "cell_type": "code",
   "execution_count": 5,
   "id": "695b6c71-2a6a-492f-b99b-ca6d8e6fe27a",
   "metadata": {},
   "outputs": [
    {
     "name": "stdout",
     "output_type": "stream",
     "text": [
      "[1 0 0 1 1 0 0 0 1 1 1 0 1 1 1 0 1 1 1 0 1 1 0 1 1 1 1 1 1 0 1 1 1 1 1 1 0\n",
      " 1 0 1 1 0 1 1 1 1 1 1 1 1 0 0 1 1 1 1 1 0 1 1 1 0 0 1 1 1 0 0 1 1 1 0 1 1\n",
      " 1 1 1 0 1 1 0 1 1 0 0 0 0 0 1 1 1 1 1 1 1 1 0 0 1 0 0 1 0 0 1 1 1 0 1 1 0\n",
      " 1 1 0 1 0 1 1 1 0 1 1 1 0 1 0 0 1 1 0 0 0 1 1 0 0 1 1 1 0 1 0 1 1 0 1 0 0\n",
      " 0 1 0 1 1 1 1 0 0 1 1 1 1 1 1 1 0 1 1 1 1 0 1]\n"
     ]
    }
   ],
   "source": [
    "# entrenar algoritmo K-NN \n",
    "from sklearn.neighbors import KNeighborsClassifier\n",
    "\n",
    "knn = KNeighborsClassifier(n_neighbors=5)\n",
    "knn.fit(X_train, y_train)\n",
    "y_pred = knn.predict(X_test)\n",
    "# se imprimen etiquetas predichas por el algoritmo\n",
    "print(y_pred)"
   ]
  },
  {
   "cell_type": "code",
   "execution_count": 6,
   "id": "dda505c6-adc4-42d5-a56b-1effbba12f87",
   "metadata": {},
   "outputs": [
    {
     "name": "stdout",
     "output_type": "stream",
     "text": [
      "Matriz de confusión:\n",
      "['TP 107', 'FN 1']\n",
      "['FP 6', 'TN 57']\n",
      "Accuracy: 0.9590643274853801\n",
      "Error: 0.040935672514619936\n",
      "Precision / Positive Predictive Value: 0.9469026548672567\n",
      "Negative Predictive Value: 0.9827586206896551\n",
      "Sensitivity / Recall / True Positive Rate : 0.9907407407407407\n",
      "Specificity / True Negative Rate : 0.9827586206896551\n",
      "False Positive Rate: 0.09523809523809523\n",
      "False Negative Rate: 0.009259259259259259\n",
      "F1-Score: 0.9683257918552035\n"
     ]
    }
   ],
   "source": [
    "# obtener medidas manualmente\n",
    "TP = TN = FP = FN = 0\n",
    "for actual, predicted in zip(y_test, y_pred):\n",
    "    if actual == 1 and predicted == 1:\n",
    "        TP += 1  # True Positive\n",
    "    elif actual == 0 and predicted == 0:\n",
    "        TN += 1  # True Negative\n",
    "    elif actual == 0 and predicted == 1:\n",
    "        FP += 1  # False Positive\n",
    "    elif actual == 1 and predicted == 0:\n",
    "        FN += 1  # False Negative\n",
    "\n",
    "matriz = [[\"TP \" + str(TP), \"FN \" + str(FN)], [\"FP \" + str(FP), \"TN \" + str(TN)]]\n",
    "precision = TP / (TP + FP)\n",
    "npv = TN / (TN + FN)\n",
    "recall = TP / (TP + FN)\n",
    "specificity = TN / (TN + FN)\n",
    "accuracy = (TP + TN) / (TP + TN + FP + FN)\n",
    "error = 1 - accuracy\n",
    "F1s = 2 * ( (precision * recall) / ( precision + recall))\n",
    "fpr = FP / (FP + TN)\n",
    "fnr = FN / (FN + TP)\n",
    "\n",
    "print(\"Matriz de confusión:\")\n",
    "for row in matriz:\n",
    "    print(row)\n",
    "print(\"Accuracy: \" + str(accuracy))\n",
    "print(\"Error: \" + str(error))\n",
    "print(\"Precision / Positive Predictive Value: \" + str(precision))\n",
    "print(\"Negative Predictive Value: \" + str(npv))\n",
    "print(\"Sensitivity / Recall / True Positive Rate : \" + str(recall))\n",
    "print(\"Specificity / True Negative Rate : \" + str(specificity))\n",
    "print(\"False Positive Rate: \" + str(fpr))\n",
    "print(\"False Negative Rate: \" + str(fnr))\n",
    "print(\"F1-Score: \" + str(F1s))\n"
   ]
  },
  {
   "cell_type": "code",
   "execution_count": 17,
   "id": "41f3963f-11d4-44e4-93f1-403b45b0a8a6",
   "metadata": {},
   "outputs": [
    {
     "name": "stdout",
     "output_type": "stream",
     "text": [
      "Matriz de confusión:\n",
      "[[ 57   6]\n",
      " [  1 107]]\n",
      "\n",
      "Informe de clasificación:\n",
      "              precision    recall  f1-score   support\n",
      "\n",
      "           0       0.98      0.90      0.94        63\n",
      "           1       0.95      0.99      0.97       108\n",
      "\n",
      "    accuracy                           0.96       171\n",
      "   macro avg       0.96      0.95      0.96       171\n",
      "weighted avg       0.96      0.96      0.96       171\n",
      "\n"
     ]
    }
   ],
   "source": [
    "# obtener medidas con librerías\n",
    "from sklearn.metrics import confusion_matrix, classification_report\n",
    "\n",
    "conf_matrix = confusion_matrix(y_test, y_pred)\n",
    "\n",
    "print(\"Matriz de confusión:\")\n",
    "print(conf_matrix)\n",
    "\n",
    "print(\"\\nInforme de clasificación:\")\n",
    "print(classification_report(y_test, y_pred))"
   ]
  },
  {
   "cell_type": "code",
   "execution_count": null,
   "id": "f775d2d4-706d-4243-b94e-6e4e3e8bb8b5",
   "metadata": {},
   "outputs": [],
   "source": []
  }
 ],
 "metadata": {
  "kernelspec": {
   "display_name": "Python 3 (ipykernel)",
   "language": "python",
   "name": "python3"
  },
  "language_info": {
   "codemirror_mode": {
    "name": "ipython",
    "version": 3
   },
   "file_extension": ".py",
   "mimetype": "text/x-python",
   "name": "python",
   "nbconvert_exporter": "python",
   "pygments_lexer": "ipython3",
   "version": "3.12.4"
  }
 },
 "nbformat": 4,
 "nbformat_minor": 5
}
